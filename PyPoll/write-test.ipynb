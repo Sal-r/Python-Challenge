{
 "cells": [
  {
   "cell_type": "code",
   "execution_count": 1,
   "metadata": {},
   "outputs": [
    {
     "ename": "NameError",
     "evalue": "name '__file__' is not defined",
     "output_type": "error",
     "traceback": [
      "\u001b[0;31m---------------------------------------------------------------------------\u001b[0m",
      "\u001b[0;31mNameError\u001b[0m                                 Traceback (most recent call last)",
      "\u001b[0;32m<ipython-input-1-f46bd709804b>\u001b[0m in \u001b[0;36m<module>\u001b[0;34m\u001b[0m\n\u001b[1;32m      4\u001b[0m \u001b[0;34m\u001b[0m\u001b[0m\n\u001b[1;32m      5\u001b[0m \u001b[0;31m#file path\u001b[0m\u001b[0;34m\u001b[0m\u001b[0;34m\u001b[0m\u001b[0;34m\u001b[0m\u001b[0m\n\u001b[0;32m----> 6\u001b[0;31m \u001b[0mdir_path\u001b[0m \u001b[0;34m=\u001b[0m \u001b[0mos\u001b[0m\u001b[0;34m.\u001b[0m\u001b[0mpath\u001b[0m\u001b[0;34m.\u001b[0m\u001b[0mdirname\u001b[0m\u001b[0;34m(\u001b[0m\u001b[0mos\u001b[0m\u001b[0;34m.\u001b[0m\u001b[0mpath\u001b[0m\u001b[0;34m.\u001b[0m\u001b[0mrealpath\u001b[0m\u001b[0;34m(\u001b[0m\u001b[0m__file__\u001b[0m\u001b[0;34m)\u001b[0m\u001b[0;34m)\u001b[0m\u001b[0;34m\u001b[0m\u001b[0;34m\u001b[0m\u001b[0m\n\u001b[0m\u001b[1;32m      7\u001b[0m \u001b[0mpypoll_data_path\u001b[0m \u001b[0;34m=\u001b[0m \u001b[0mos\u001b[0m\u001b[0;34m.\u001b[0m\u001b[0mpath\u001b[0m\u001b[0;34m.\u001b[0m\u001b[0mjoin\u001b[0m\u001b[0;34m(\u001b[0m\u001b[0mdir_path\u001b[0m\u001b[0;34m,\u001b[0m \u001b[0;34m'election_data.csv'\u001b[0m\u001b[0;34m)\u001b[0m\u001b[0;34m\u001b[0m\u001b[0;34m\u001b[0m\u001b[0m\n\u001b[1;32m      8\u001b[0m \u001b[0;34m\u001b[0m\u001b[0m\n",
      "\u001b[0;31mNameError\u001b[0m: name '__file__' is not defined"
     ]
    }
   ],
   "source": [
    "#dependcies\n",
    "import os\n",
    "import csv\n",
    "\n",
    "#file path\n",
    "dir_path = os.path.dirname(os.path.realpath(__file__))\n",
    "pypoll_data_path = os.path.join(dir_path, 'election_data.csv')\n",
    "\n",
    "#make dictionarys & lists\n",
    "votes = {}\n",
    "total_votes = 0\n",
    "win_votes = []\n",
    "\n",
    "#open file\n",
    "with open(pypoll_data_path, 'r') as pypoll_data:\n",
    "    csvreader = csv.reader(pypoll_data, delimiter=',')\n",
    "    \n",
    "    #loop through and count\n",
    "    for rows in csvreader:\n",
    "\n",
    "        if 'Candidate' in rows[2]:\n",
    "            pass\n",
    "\n",
    "        elif rows[2] not in votes.keys():\n",
    "            votes[rows[2]] = 1\n",
    "            total_votes +=1\n",
    "        else:\n",
    "            votes[rows[2]] += 1\n",
    "            total_votes +=1\n",
    "\n",
    "with open('SPR_election_results.txt','w') as pypoll_results:\n",
    "#newline\n",
    "    print('\\n\\n')\n",
    "    #actual answer\n",
    "    print('Election Results')\n",
    "    print('---------------------------------')\n",
    "    print('Total Votes: ' + str(total_votes))\n",
    "    print('---------------------------------')\n",
    "\n",
    "    pypoll_results.write('Election Results')\n",
    "    pypoll_results.write('\\n---------------------------------\\n')\n",
    "    pypoll_results.write('Total Votes: ' + str(total_votes))\n",
    "    pypoll_results.write('\\n---------------------------------\\n')\n",
    "\n",
    "    #loop again\n",
    "    for key in votes.keys():\n",
    "\n",
    "        #multiply and compute decimals/percent\n",
    "        percent = 100 * (int(votes[key]) / (total_votes))\n",
    "\n",
    "        #print strings and format to percent\n",
    "        print(str(key) + ': ' + \"{0:.3f}%\".format(percent) + ', ' +\\\n",
    "            str(votes[key]) +' votes')\n",
    "\n",
    "        pypoll_results.write(str(key) + ': ' + \"{0:.3f}%\".format(percent) + ', ' +\\\n",
    "            str(votes[key]) +' votes')\n",
    "        \n",
    "        win_votes.append(votes[key])\n",
    "\n",
    "    print('---------------------------------')\n",
    "\n",
    "    pypoll_results.write('\\n---------------------------------\\n')\n",
    "    #compage max of votes to keys in dictionary\n",
    "    for key, value in votes.items():\n",
    "\n",
    "        if value == max(win_votes):\n",
    "\n",
    "            print(key + ' won the election!')\n",
    "            print('---------------------------------')\n",
    "\n",
    "            pypoll_results.write(key + ' won the election!')\n",
    "            pypoll_results.write('\\n---------------------------------\\n')"
   ]
  }
 ],
 "metadata": {
  "kernelspec": {
   "display_name": "Python 3",
   "language": "python",
   "name": "python3"
  },
  "language_info": {
   "codemirror_mode": {
    "name": "ipython",
    "version": 3
   },
   "file_extension": ".py",
   "mimetype": "text/x-python",
   "name": "python",
   "nbconvert_exporter": "python",
   "pygments_lexer": "ipython3",
   "version": "3.7.4"
  }
 },
 "nbformat": 4,
 "nbformat_minor": 2
}
